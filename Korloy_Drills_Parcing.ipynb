{
 "cells": [
  {
   "cell_type": "markdown",
   "id": "a043d4de",
   "metadata": {},
   "source": [
    "# Парсинг продукции Korloy\n",
    "\n",
    "Я решил в качестве проекта по парсингу выбрать задачу по сбору обозначений и конструктивных параметров (размеров) сверл для обработки конструкционной стали на глубину до 7 диаметров. Данную задачу я выбрал посколько являюсь руководителем технического отдела в Mitsubishi Materials, которая выпускает металлорежущий инструмент и занимается его продажами. В своей работе я обнаружил, что у моих сотрудников уходит очень много времени на то, чтобы подобрать аналоги конкурентных инструментов для клиентов, так как на сегодняшний день данный подбор осуществляется сотрудниками в ручном режиме при помощи сравнения применения серии инструментов, а также их размеров. Я бы хотел автоматизировать процесс подбора аналогов, чтобы освободить время своим сотрудникам для более важных и сложных технических задач, например написание технологий обработки автомобильных двигателей или турбинных лопаток для авиадвигателей, что также входит в наши повседневные задачи. В связи с этим я задался целью написать программы для парсинга всей продукции наших конкурентов.\n",
    "\n",
    "В рамках данного проекта, я выбрал сайт электронного каталога одного из наших конкуртов Korloy. С этого сайта мы будем парсить только одну серию сверл с диаметрами более 3 мм (т.к. в нашей продукции применяются в основном такие сверла). В своей дальнейшей работе в компании Mitsubishi Materials я планирую выполнить парсинг всей конкурентной продукции."
   ]
  },
  {
   "cell_type": "code",
   "execution_count": 1,
   "id": "186761ba",
   "metadata": {},
   "outputs": [],
   "source": [
    "from selenium import webdriver #импортируем \"робота\", который проходит по страницам в хроме\n",
    "from selenium.webdriver.common.keys import Keys #импортируем Keys для ввода данных в поле \"Поиск\" и нажатия на кнопки"
   ]
  },
  {
   "cell_type": "code",
   "execution_count": 2,
   "id": "e21e52fb",
   "metadata": {
    "scrolled": true
   },
   "outputs": [
    {
     "name": "stdout",
     "output_type": "stream",
     "text": [
      "\n"
     ]
    },
    {
     "name": "stderr",
     "output_type": "stream",
     "text": [
      "[WDM] - ====== WebDriver manager ======\n",
      "[WDM] - Current google-chrome version is 105.0.5195\n",
      "[WDM] - Get LATEST chromedriver version for 105.0.5195 google-chrome\n",
      "[WDM] - Driver [C:\\Users\\79629\\.wdm\\drivers\\chromedriver\\win32\\105.0.5195.52\\chromedriver.exe] found in cache\n",
      "C:\\Users\\79629\\AppData\\Local\\Temp\\ipykernel_17400\\2127724492.py:4: DeprecationWarning: executable_path has been deprecated, please pass in a Service object\n",
      "  driver = webdriver.Chrome(ChromeDriverManager().install())\n"
     ]
    }
   ],
   "source": [
    "#запускаем webdriver, открывается пустая страница браузера Chrome\n",
    "from webdriver_manager.chrome import ChromeDriverManager\n",
    "\n",
    "driver = webdriver.Chrome(ChromeDriverManager().install())"
   ]
  },
  {
   "cell_type": "code",
   "execution_count": 3,
   "id": "3e63c0bf",
   "metadata": {
    "scrolled": true
   },
   "outputs": [
    {
     "data": {
      "text/plain": [
       "'Mozilla/5.0 (Windows NT 6.2; WOW64) AppleWebKit/537.14 (KHTML, like Gecko) Chrome/24.0.1292.0 Safari/537.14'"
      ]
     },
     "execution_count": 3,
     "metadata": {},
     "output_type": "execute_result"
    }
   ],
   "source": [
    "#импортируем UserAgent для браузера Chrome\n",
    "from fake_useragent import UserAgent\n",
    "UserAgent().chrome"
   ]
  },
  {
   "cell_type": "code",
   "execution_count": 4,
   "id": "3f516c17",
   "metadata": {},
   "outputs": [
    {
     "name": "stdout",
     "output_type": "stream",
     "text": [
      "<Response [200]>\n"
     ]
    }
   ],
   "source": [
    "#импортируем библиотеки для парсинга\n",
    "import requests\n",
    "from bs4 import BeautifulSoup\n",
    "from time import sleep\n",
    "url = \"https://catalog.korloy.com/app/main.do\"\n",
    "\n",
    "#проверяем доступ к странице\n",
    "response = requests.get(url, headers={'User-Agent': UserAgent().chrome})\n",
    "print(response)"
   ]
  },
  {
   "cell_type": "code",
   "execution_count": 5,
   "id": "ba99353c",
   "metadata": {},
   "outputs": [],
   "source": [
    "#переходим на сайт\n",
    "driver.get(url)"
   ]
  },
  {
   "cell_type": "code",
   "execution_count": 6,
   "id": "55dabc1a",
   "metadata": {},
   "outputs": [],
   "source": [
    "#создаем функцию для клика по кнопкам\n",
    "def click (fld):\n",
    "    fld = driver.find_element(\"xpath\", fld)\n",
    "    fld.click()"
   ]
  },
  {
   "cell_type": "code",
   "execution_count": 7,
   "id": "be469b5a",
   "metadata": {},
   "outputs": [],
   "source": [
    "#переходим на страницу монолитного режущего инструмента\n",
    "click('/html/body/div[3]/div[6]/div[3]/div/div/div/div/div/div/ul/li[7]/a/span')\n",
    "sleep (1.5) #спим 1.5 с до следующего запроса"
   ]
  },
  {
   "cell_type": "code",
   "execution_count": 8,
   "id": "61f42962",
   "metadata": {},
   "outputs": [],
   "source": [
    "#переходим в раздел сверл\n",
    "#click('/html/body/div[3]/div[6]/div[2]/div[2]/div/div[1]/div[2]/div/ul/li[5]/a/div[3]/p')\n",
    "#click('/html/body/div[3]/div[6]/div[2]/div[2]/div/div[1]/div[2]/div/ul/li[6]/a/div[3]/p')\n",
    "click('/html/body/div[3]/div[6]/div[2]/div[2]/div/div[1]/div[2]/div/ul/li[9]/a/div[3]/p')\n",
    "sleep(1.5)"
   ]
  },
  {
   "cell_type": "code",
   "execution_count": 9,
   "id": "af35d552",
   "metadata": {},
   "outputs": [],
   "source": [
    "#выбираем интересующую нас серию сверл (Drills_MSDP(H)-7P - твердосплавные для обработки конструкционных сталей на глубину до 7D)\n",
    "click('/html/body/div[3]/div[6]/div[2]/div[2]/div/div[1]/div[2]/div[1]/div/ul/li[9]/a/div[3]/p')\n",
    "sleep (1.5)"
   ]
  },
  {
   "cell_type": "code",
   "execution_count": 10,
   "id": "3fa8cf4a",
   "metadata": {
    "scrolled": true
   },
   "outputs": [],
   "source": [
    "#скролим страницу до положения, чтобы была видна кнопка настройки фильтра\n",
    "driver.execute_script(\"window.scrollTo(0, 600)\")\n",
    "\n",
    "#жмём кнопку для настройки фильров поиска\n",
    "click('/html/body/div[3]/div[6]/div[2]/div[2]/div/div[1]/div[1]/div[2]/ul/li[2]/a')\n",
    "sleep (1.5)\n",
    "\n",
    "\n",
    "#выбираем необходимый диапазон диаметров сверл (диаметры не менее 3 мм)\n",
    "click ('/html/body/div[3]/div[6]/div[2]/div[2]/div/div[1]/div[1]/div[3]/div[1]/div/table/tbody/tr[1]/td[2]/div/a[3]')\n",
    "sleep (1.5)\n",
    "#выбираем знак >=\n",
    "\n",
    "#кликаем на поле с вводом диаметра\n",
    "fld = driver.find_element(\"xpath\", '/html/body/div[3]/div[6]/div[2]/div[2]/div/div[1]/div[1]/div[3]/div[1]/div/table/tbody/tr[1]/td[2]/div/div[1]/input')\n",
    "sleep (1.5)\n",
    "click('/html/body/div[3]/div[6]/div[2]/div[2]/div/div[1]/div[1]/div[3]/div[1]/div/table/tbody/tr[1]/td[2]/div/div[1]/input')\n",
    "sleep (1.5)\n",
    "\n",
    "#вводим диаметр 3 мм\n",
    "diam = 3\n",
    "fld.send_keys(diam) #ввод числа 3 в поле\n",
    "sleep (1.5)\n",
    "\n",
    "#жмём кнопку 'Search'\n",
    "click('/html/body/div[3]/div[6]/div[2]/div[2]/div/div[1]/div[1]/div[3]/div[2]/div/a[2]')\n",
    "sleep (1.5)\n",
    "\n",
    "#обнаруживаем, что фильтр на сайте не работает (возможно, пофиксят в будущем). Для того, чтобы убедиться в том, что фильтры\n",
    "#на сайте не работают, я также сделал это вручную\n",
    "#делаем вывод о том, что фильтрацию данных придется делать после парсинга таблицы целиком"
   ]
  },
  {
   "cell_type": "code",
   "execution_count": 11,
   "id": "c6bf5a8a",
   "metadata": {},
   "outputs": [],
   "source": [
    "#импортируем tqdm для отслеживания процесса парсинга\n",
    "from tqdm import tqdm"
   ]
  },
  {
   "cell_type": "code",
   "execution_count": 12,
   "id": "f536f6fa",
   "metadata": {},
   "outputs": [
    {
     "name": "stderr",
     "output_type": "stream",
     "text": [
      "100%|████████████████████████████████████████████████████████████████████████████████| 100/100 [01:02<00:00,  1.60it/s]\n"
     ]
    }
   ],
   "source": [
    "#собираем разметку страницы и \"варим суп\"\n",
    "for i in tqdm(range(100)):\n",
    "    page = driver.page_source\n",
    "    sleep (0.5)\n",
    "soup = BeautifulSoup(page, 'lxml')"
   ]
  },
  {
   "cell_type": "code",
   "execution_count": 13,
   "id": "d2d2914b",
   "metadata": {},
   "outputs": [],
   "source": [
    "#изучив дерево сайта, делаем вывод, что обозначения сверл и их конструктивные параметры (значения размеров на эскизе) хранятся\n",
    "#в 2-х разных таблицах, чего можно не заметить визуально на странице сайта. Для начала соберем обозначения сверл из первой\n",
    "#таблицы и запишем их в список\n",
    "\n",
    "designation = []\n",
    "table = soup.find('table', {'id' : 'table_itemList'}) #находим таблицу с обозначением сверл"
   ]
  },
  {
   "cell_type": "code",
   "execution_count": 14,
   "id": "91abd7ec",
   "metadata": {},
   "outputs": [],
   "source": [
    "#сохраняем обозначения в список\n",
    "for tr in table.find_all('tr'):      \n",
    "    for td in tr.find_all('td', {'class' : 'ellipsis'}):\n",
    "        designation.append(td.text)    "
   ]
  },
  {
   "cell_type": "code",
   "execution_count": 15,
   "id": "366136f8",
   "metadata": {},
   "outputs": [],
   "source": [
    "Korloy_tools = {'Designation' : designation}"
   ]
  },
  {
   "cell_type": "code",
   "execution_count": 16,
   "id": "28a65a68",
   "metadata": {},
   "outputs": [],
   "source": [
    "table_sizes = table.find('tbody') #находим таблицу с размерами сверл"
   ]
  },
  {
   "cell_type": "code",
   "execution_count": 17,
   "id": "712af56e",
   "metadata": {},
   "outputs": [],
   "source": [
    "#собираем названия размеров из шапки таблицы\n",
    "sizes_names = []\n",
    "ths = table_sizes.find_all('th')\n",
    "for th in ths:\n",
    "    sizes_names.append(th.text)"
   ]
  },
  {
   "cell_type": "code",
   "execution_count": 18,
   "id": "256f081a",
   "metadata": {},
   "outputs": [],
   "source": [
    "#добавляем обозначения размеров в качестве ключей словаря Korloy_tools. Значениями ключей будут пустые списки\n",
    "for size_name in sizes_names:\n",
    "    Korloy_tools[size_name] = []"
   ]
  },
  {
   "cell_type": "code",
   "execution_count": 19,
   "id": "a2e3cddc",
   "metadata": {},
   "outputs": [],
   "source": [
    "#заполняем словарь, путем добавления в списки размеров сверл\n",
    "trs = table_sizes.find_all('tr')\n",
    "\n",
    "i = 0\n",
    "for tr in trs:\n",
    "    tds = tr.find_all('td')\n",
    "    for td in tds:\n",
    "        Korloy_tools[sizes_names[i]].append(td.text)\n",
    "        i += 1\n",
    "        if i == len(sizes_names):\n",
    "            i = 0"
   ]
  },
  {
   "cell_type": "code",
   "execution_count": 20,
   "id": "bd5f8996",
   "metadata": {},
   "outputs": [],
   "source": [
    "#импортируем pandas для работы с DataFrame\n",
    "import pandas as pd"
   ]
  },
  {
   "cell_type": "code",
   "execution_count": 21,
   "id": "77719974",
   "metadata": {},
   "outputs": [],
   "source": [
    "#создаем DataFrame из словаря Korloy_tools\n",
    "df = pd.DataFrame(Korloy_tools)"
   ]
  },
  {
   "cell_type": "code",
   "execution_count": 22,
   "id": "71b033aa",
   "metadata": {},
   "outputs": [],
   "source": [
    "#удаляем строки с позициями, для которых не указаны диаметры DC\n",
    "df = df.loc[df['DC'] != '']"
   ]
  },
  {
   "cell_type": "code",
   "execution_count": 23,
   "id": "49bf5619",
   "metadata": {
    "scrolled": true
   },
   "outputs": [],
   "source": [
    "#преобразуем числа в DataFrame в тип данных float\n",
    "for key in Korloy_tools:\n",
    "    if key != 'Designation':\n",
    "        df[key] = df[key].astype('float')"
   ]
  },
  {
   "cell_type": "code",
   "execution_count": 24,
   "id": "eab42e3a",
   "metadata": {},
   "outputs": [],
   "source": [
    "#удаляем строки с позициями, для которых диаметры DC < 3\n",
    "df = df.loc[df['DC'] - 3 >= 0]"
   ]
  },
  {
   "cell_type": "code",
   "execution_count": 25,
   "id": "0c460f2a",
   "metadata": {},
   "outputs": [],
   "source": [
    "#закрываем Webdriver\n",
    "driver.close()"
   ]
  },
  {
   "cell_type": "code",
   "execution_count": 26,
   "id": "66db488b",
   "metadata": {},
   "outputs": [],
   "source": [
    "#Сохраняем DataFrame в файл Excel\n",
    "df.to_excel('parsed_drills.xlsx', index=False)\n",
    "df.to_pickle('parsed_drills.pkl')"
   ]
  },
  {
   "cell_type": "code",
   "execution_count": 27,
   "id": "f5fdd90a",
   "metadata": {},
   "outputs": [],
   "source": [
    "import sqlite3"
   ]
  },
  {
   "cell_type": "code",
   "execution_count": 28,
   "id": "205b6dff",
   "metadata": {},
   "outputs": [],
   "source": [
    "conn = sqlite3.connect('Korloy.db')\n",
    "cursor = conn.cursor()"
   ]
  },
  {
   "cell_type": "code",
   "execution_count": 29,
   "id": "ca8d2562",
   "metadata": {},
   "outputs": [],
   "source": [
    "try:\n",
    "    query = \"CREATE TABLE \\\"Drills\\\" (\\\"Designation\\\" TEXT, \\\"DC\\\" FLOAT, \\\"DCON-MS\\\" FLOAT, \\\"LU\\\" FLOAT, \\\"LCF\\\" FLOAT, \\\"LF\\\" FLOAT, \\\"OAL\\\" FLOAT, \\\"SIG\\\" FLOAT, \\\"WT\\\" FLOAT, \\\"ULDR\\\" FLOAT, \\\"NOF\\\" FLOAT )\"\n",
    "    cursor.execute(query)\n",
    "    \n",
    "except:\n",
    "    pass"
   ]
  },
  {
   "cell_type": "code",
   "execution_count": 31,
   "id": "83e827c3",
   "metadata": {},
   "outputs": [
    {
     "data": {
      "text/plain": [
       "342"
      ]
     },
     "execution_count": 31,
     "metadata": {},
     "output_type": "execute_result"
    }
   ],
   "source": [
    "df.to_sql('Drills', conn, if_exists='replace', index = False)"
   ]
  },
  {
   "cell_type": "code",
   "execution_count": null,
   "id": "752ac62a",
   "metadata": {},
   "outputs": [],
   "source": []
  }
 ],
 "metadata": {
  "kernelspec": {
   "display_name": "Python 3 (ipykernel)",
   "language": "python",
   "name": "python3"
  },
  "language_info": {
   "codemirror_mode": {
    "name": "ipython",
    "version": 3
   },
   "file_extension": ".py",
   "mimetype": "text/x-python",
   "name": "python",
   "nbconvert_exporter": "python",
   "pygments_lexer": "ipython3",
   "version": "3.9.12"
  }
 },
 "nbformat": 4,
 "nbformat_minor": 5
}
